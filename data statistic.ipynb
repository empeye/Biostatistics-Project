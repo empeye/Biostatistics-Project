{
 "cells": [
  {
   "cell_type": "markdown",
   "metadata": {},
   "source": [
    "# Descriptive Statistics"
   ]
  },
  {
   "cell_type": "code",
   "execution_count": 10,
   "metadata": {},
   "outputs": [
    {
     "data": {
      "text/html": [
       "<div>\n",
       "<style scoped>\n",
       "    .dataframe tbody tr th:only-of-type {\n",
       "        vertical-align: middle;\n",
       "    }\n",
       "\n",
       "    .dataframe tbody tr th {\n",
       "        vertical-align: top;\n",
       "    }\n",
       "\n",
       "    .dataframe thead th {\n",
       "        text-align: right;\n",
       "    }\n",
       "</style>\n",
       "<table border=\"1\" class=\"dataframe\">\n",
       "  <thead>\n",
       "    <tr style=\"text-align: right;\">\n",
       "      <th></th>\n",
       "      <th>Patient_No</th>\n",
       "      <th>Lab_Visit</th>\n",
       "      <th>Date</th>\n",
       "      <th>SGPT</th>\n",
       "      <th>AFP</th>\n",
       "      <th>HBV_Viral_Load</th>\n",
       "      <th>HBV_log_equivalence</th>\n",
       "      <th>HBeAg</th>\n",
       "      <th>Stiffness</th>\n",
       "      <th>SGPT_Cat</th>\n",
       "      <th>AFP_Cat</th>\n",
       "      <th>Stiffness_Cat</th>\n",
       "    </tr>\n",
       "  </thead>\n",
       "  <tbody>\n",
       "    <tr>\n",
       "      <td>0</td>\n",
       "      <td>1</td>\n",
       "      <td>13</td>\n",
       "      <td>2015-11-26</td>\n",
       "      <td>12.0</td>\n",
       "      <td>3.0</td>\n",
       "      <td>1028</td>\n",
       "      <td>3.01</td>\n",
       "      <td>Negative</td>\n",
       "      <td>5.1</td>\n",
       "      <td>Normal</td>\n",
       "      <td>Normal</td>\n",
       "      <td>No to Mild</td>\n",
       "    </tr>\n",
       "    <tr>\n",
       "      <td>1</td>\n",
       "      <td>3</td>\n",
       "      <td>13</td>\n",
       "      <td>2015-09-21</td>\n",
       "      <td>14.0</td>\n",
       "      <td>8.1</td>\n",
       "      <td>356</td>\n",
       "      <td>2.55</td>\n",
       "      <td>Negative</td>\n",
       "      <td>3.6</td>\n",
       "      <td>Normal</td>\n",
       "      <td>Abnormal</td>\n",
       "      <td>No to Mild</td>\n",
       "    </tr>\n",
       "    <tr>\n",
       "      <td>2</td>\n",
       "      <td>4</td>\n",
       "      <td>13</td>\n",
       "      <td>2015-09-12</td>\n",
       "      <td>31.0</td>\n",
       "      <td>5.9</td>\n",
       "      <td>15097</td>\n",
       "      <td>4.18</td>\n",
       "      <td>Negative</td>\n",
       "      <td>3.8</td>\n",
       "      <td>Normal</td>\n",
       "      <td>Normal</td>\n",
       "      <td>No to Mild</td>\n",
       "    </tr>\n",
       "    <tr>\n",
       "      <td>3</td>\n",
       "      <td>5</td>\n",
       "      <td>13</td>\n",
       "      <td>2015-09-23</td>\n",
       "      <td>19.0</td>\n",
       "      <td>1.8</td>\n",
       "      <td>2542</td>\n",
       "      <td>3.41</td>\n",
       "      <td>Negative</td>\n",
       "      <td>4.0</td>\n",
       "      <td>Normal</td>\n",
       "      <td>Normal</td>\n",
       "      <td>No to Mild</td>\n",
       "    </tr>\n",
       "    <tr>\n",
       "      <td>4</td>\n",
       "      <td>10</td>\n",
       "      <td>13</td>\n",
       "      <td>2015-08-31</td>\n",
       "      <td>17.0</td>\n",
       "      <td>3.0</td>\n",
       "      <td>13652</td>\n",
       "      <td>3.06</td>\n",
       "      <td>Negative</td>\n",
       "      <td>4.9</td>\n",
       "      <td>Normal</td>\n",
       "      <td>Normal</td>\n",
       "      <td>No to Mild</td>\n",
       "    </tr>\n",
       "    <tr>\n",
       "      <td>...</td>\n",
       "      <td>...</td>\n",
       "      <td>...</td>\n",
       "      <td>...</td>\n",
       "      <td>...</td>\n",
       "      <td>...</td>\n",
       "      <td>...</td>\n",
       "      <td>...</td>\n",
       "      <td>...</td>\n",
       "      <td>...</td>\n",
       "      <td>...</td>\n",
       "      <td>...</td>\n",
       "      <td>...</td>\n",
       "    </tr>\n",
       "    <tr>\n",
       "      <td>780</td>\n",
       "      <td>2089</td>\n",
       "      <td>13</td>\n",
       "      <td>2016-01-18</td>\n",
       "      <td>15.0</td>\n",
       "      <td>2.8</td>\n",
       "      <td>0</td>\n",
       "      <td>3.70</td>\n",
       "      <td>Negative</td>\n",
       "      <td>3.3</td>\n",
       "      <td>Normal</td>\n",
       "      <td>Normal</td>\n",
       "      <td>No to Mild</td>\n",
       "    </tr>\n",
       "    <tr>\n",
       "      <td>781</td>\n",
       "      <td>2113</td>\n",
       "      <td>13</td>\n",
       "      <td>2015-12-23</td>\n",
       "      <td>13.0</td>\n",
       "      <td>1.8</td>\n",
       "      <td>240</td>\n",
       "      <td>1.30</td>\n",
       "      <td>Negative</td>\n",
       "      <td>3.3</td>\n",
       "      <td>Normal</td>\n",
       "      <td>Normal</td>\n",
       "      <td>No to Mild</td>\n",
       "    </tr>\n",
       "    <tr>\n",
       "      <td>782</td>\n",
       "      <td>2139</td>\n",
       "      <td>13</td>\n",
       "      <td>2015-12-16</td>\n",
       "      <td>12.0</td>\n",
       "      <td>5.4</td>\n",
       "      <td>124490</td>\n",
       "      <td>2.85</td>\n",
       "      <td>Negative</td>\n",
       "      <td>4.3</td>\n",
       "      <td>Normal</td>\n",
       "      <td>Normal</td>\n",
       "      <td>No to Mild</td>\n",
       "    </tr>\n",
       "    <tr>\n",
       "      <td>783</td>\n",
       "      <td>2158</td>\n",
       "      <td>13</td>\n",
       "      <td>2016-01-21</td>\n",
       "      <td>24.0</td>\n",
       "      <td>4.2</td>\n",
       "      <td>63658</td>\n",
       "      <td>1.88</td>\n",
       "      <td>Negative</td>\n",
       "      <td>5.6</td>\n",
       "      <td>Normal</td>\n",
       "      <td>Normal</td>\n",
       "      <td>No to Mild</td>\n",
       "    </tr>\n",
       "    <tr>\n",
       "      <td>784</td>\n",
       "      <td>2383</td>\n",
       "      <td>13</td>\n",
       "      <td>2015-12-15</td>\n",
       "      <td>22.0</td>\n",
       "      <td>1.1</td>\n",
       "      <td>0</td>\n",
       "      <td>1.30</td>\n",
       "      <td>Negative</td>\n",
       "      <td>3.9</td>\n",
       "      <td>Normal</td>\n",
       "      <td>Normal</td>\n",
       "      <td>No to Mild</td>\n",
       "    </tr>\n",
       "  </tbody>\n",
       "</table>\n",
       "<p>785 rows × 12 columns</p>\n",
       "</div>"
      ],
      "text/plain": [
       "     Patient_No  Lab_Visit        Date  SGPT  AFP  HBV_Viral_Load  \\\n",
       "0             1         13  2015-11-26  12.0  3.0            1028   \n",
       "1             3         13  2015-09-21  14.0  8.1             356   \n",
       "2             4         13  2015-09-12  31.0  5.9           15097   \n",
       "3             5         13  2015-09-23  19.0  1.8            2542   \n",
       "4            10         13  2015-08-31  17.0  3.0           13652   \n",
       "..          ...        ...         ...   ...  ...             ...   \n",
       "780        2089         13  2016-01-18  15.0  2.8               0   \n",
       "781        2113         13  2015-12-23  13.0  1.8             240   \n",
       "782        2139         13  2015-12-16  12.0  5.4          124490   \n",
       "783        2158         13  2016-01-21  24.0  4.2           63658   \n",
       "784        2383         13  2015-12-15  22.0  1.1               0   \n",
       "\n",
       "     HBV_log_equivalence     HBeAg  Stiffness SGPT_Cat   AFP_Cat Stiffness_Cat  \n",
       "0                   3.01  Negative        5.1   Normal    Normal    No to Mild  \n",
       "1                   2.55  Negative        3.6   Normal  Abnormal    No to Mild  \n",
       "2                   4.18  Negative        3.8   Normal    Normal    No to Mild  \n",
       "3                   3.41  Negative        4.0   Normal    Normal    No to Mild  \n",
       "4                   3.06  Negative        4.9   Normal    Normal    No to Mild  \n",
       "..                   ...       ...        ...      ...       ...           ...  \n",
       "780                 3.70  Negative        3.3   Normal    Normal    No to Mild  \n",
       "781                 1.30  Negative        3.3   Normal    Normal    No to Mild  \n",
       "782                 2.85  Negative        4.3   Normal    Normal    No to Mild  \n",
       "783                 1.88  Negative        5.6   Normal    Normal    No to Mild  \n",
       "784                 1.30  Negative        3.9   Normal    Normal    No to Mild  \n",
       "\n",
       "[785 rows x 12 columns]"
      ]
     },
     "execution_count": 10,
     "metadata": {},
     "output_type": "execute_result"
    }
   ],
   "source": [
    "import pandas as pd\n",
    "Data = pd.read_csv('data.csv')\n",
    "Data"
   ]
  },
  {
   "cell_type": "code",
   "execution_count": 11,
   "metadata": {},
   "outputs": [
    {
     "data": {
      "text/html": [
       "<div>\n",
       "<style scoped>\n",
       "    .dataframe tbody tr th:only-of-type {\n",
       "        vertical-align: middle;\n",
       "    }\n",
       "\n",
       "    .dataframe tbody tr th {\n",
       "        vertical-align: top;\n",
       "    }\n",
       "\n",
       "    .dataframe thead th {\n",
       "        text-align: right;\n",
       "    }\n",
       "</style>\n",
       "<table border=\"1\" class=\"dataframe\">\n",
       "  <thead>\n",
       "    <tr style=\"text-align: right;\">\n",
       "      <th></th>\n",
       "      <th>Patient_No</th>\n",
       "      <th>Lab_Visit</th>\n",
       "      <th>SGPT</th>\n",
       "      <th>AFP</th>\n",
       "      <th>HBV_Viral_Load</th>\n",
       "      <th>HBV_log_equivalence</th>\n",
       "      <th>Stiffness</th>\n",
       "    </tr>\n",
       "  </thead>\n",
       "  <tbody>\n",
       "    <tr>\n",
       "      <td>count</td>\n",
       "      <td>785.000000</td>\n",
       "      <td>785.0</td>\n",
       "      <td>785.000000</td>\n",
       "      <td>785.000000</td>\n",
       "      <td>7.850000e+02</td>\n",
       "      <td>785.000000</td>\n",
       "      <td>785.000000</td>\n",
       "    </tr>\n",
       "    <tr>\n",
       "      <td>mean</td>\n",
       "      <td>895.003822</td>\n",
       "      <td>13.0</td>\n",
       "      <td>24.810191</td>\n",
       "      <td>3.598981</td>\n",
       "      <td>5.663360e+06</td>\n",
       "      <td>2.882981</td>\n",
       "      <td>4.878344</td>\n",
       "    </tr>\n",
       "    <tr>\n",
       "      <td>std</td>\n",
       "      <td>561.181210</td>\n",
       "      <td>0.0</td>\n",
       "      <td>18.719421</td>\n",
       "      <td>17.593571</td>\n",
       "      <td>2.916568e+07</td>\n",
       "      <td>1.574548</td>\n",
       "      <td>1.597635</td>\n",
       "    </tr>\n",
       "    <tr>\n",
       "      <td>min</td>\n",
       "      <td>1.000000</td>\n",
       "      <td>13.0</td>\n",
       "      <td>5.000000</td>\n",
       "      <td>0.600000</td>\n",
       "      <td>0.000000e+00</td>\n",
       "      <td>1.300000</td>\n",
       "      <td>1.900000</td>\n",
       "    </tr>\n",
       "    <tr>\n",
       "      <td>25%</td>\n",
       "      <td>410.000000</td>\n",
       "      <td>13.0</td>\n",
       "      <td>15.000000</td>\n",
       "      <td>1.800000</td>\n",
       "      <td>4.700000e+01</td>\n",
       "      <td>1.630000</td>\n",
       "      <td>3.700000</td>\n",
       "    </tr>\n",
       "    <tr>\n",
       "      <td>50%</td>\n",
       "      <td>860.000000</td>\n",
       "      <td>13.0</td>\n",
       "      <td>20.000000</td>\n",
       "      <td>2.500000</td>\n",
       "      <td>4.750000e+02</td>\n",
       "      <td>2.630000</td>\n",
       "      <td>4.600000</td>\n",
       "    </tr>\n",
       "    <tr>\n",
       "      <td>75%</td>\n",
       "      <td>1317.000000</td>\n",
       "      <td>13.0</td>\n",
       "      <td>28.000000</td>\n",
       "      <td>3.500000</td>\n",
       "      <td>3.423000e+03</td>\n",
       "      <td>3.490000</td>\n",
       "      <td>5.500000</td>\n",
       "    </tr>\n",
       "    <tr>\n",
       "      <td>max</td>\n",
       "      <td>2383.000000</td>\n",
       "      <td>13.0</td>\n",
       "      <td>176.000000</td>\n",
       "      <td>492.800000</td>\n",
       "      <td>1.700000e+08</td>\n",
       "      <td>8.230000</td>\n",
       "      <td>13.800000</td>\n",
       "    </tr>\n",
       "  </tbody>\n",
       "</table>\n",
       "</div>"
      ],
      "text/plain": [
       "        Patient_No  Lab_Visit        SGPT         AFP  HBV_Viral_Load  \\\n",
       "count   785.000000      785.0  785.000000  785.000000    7.850000e+02   \n",
       "mean    895.003822       13.0   24.810191    3.598981    5.663360e+06   \n",
       "std     561.181210        0.0   18.719421   17.593571    2.916568e+07   \n",
       "min       1.000000       13.0    5.000000    0.600000    0.000000e+00   \n",
       "25%     410.000000       13.0   15.000000    1.800000    4.700000e+01   \n",
       "50%     860.000000       13.0   20.000000    2.500000    4.750000e+02   \n",
       "75%    1317.000000       13.0   28.000000    3.500000    3.423000e+03   \n",
       "max    2383.000000       13.0  176.000000  492.800000    1.700000e+08   \n",
       "\n",
       "       HBV_log_equivalence   Stiffness  \n",
       "count           785.000000  785.000000  \n",
       "mean              2.882981    4.878344  \n",
       "std               1.574548    1.597635  \n",
       "min               1.300000    1.900000  \n",
       "25%               1.630000    3.700000  \n",
       "50%               2.630000    4.600000  \n",
       "75%               3.490000    5.500000  \n",
       "max               8.230000   13.800000  "
      ]
     },
     "execution_count": 11,
     "metadata": {},
     "output_type": "execute_result"
    }
   ],
   "source": [
    "Data.describe()"
   ]
  },
  {
   "cell_type": "code",
   "execution_count": 12,
   "metadata": {},
   "outputs": [],
   "source": [
    "from statistics import *"
   ]
  },
  {
   "cell_type": "code",
   "execution_count": 13,
   "metadata": {},
   "outputs": [
    {
     "data": {
      "text/plain": [
       "20.0"
      ]
     },
     "execution_count": 13,
     "metadata": {},
     "output_type": "execute_result"
    }
   ],
   "source": [
    "median(Data['SGPT'])"
   ]
  },
  {
   "cell_type": "code",
   "execution_count": 14,
   "metadata": {},
   "outputs": [
    {
     "data": {
      "text/plain": [
       "2.5"
      ]
     },
     "execution_count": 14,
     "metadata": {},
     "output_type": "execute_result"
    }
   ],
   "source": [
    "median(Data['AFP'])"
   ]
  },
  {
   "cell_type": "code",
   "execution_count": 15,
   "metadata": {},
   "outputs": [
    {
     "data": {
      "text/plain": [
       "475"
      ]
     },
     "execution_count": 15,
     "metadata": {},
     "output_type": "execute_result"
    }
   ],
   "source": [
    "median(Data['HBV_Viral_Load'])"
   ]
  },
  {
   "cell_type": "code",
   "execution_count": 16,
   "metadata": {},
   "outputs": [
    {
     "data": {
      "text/plain": [
       "2.63"
      ]
     },
     "execution_count": 16,
     "metadata": {},
     "output_type": "execute_result"
    }
   ],
   "source": [
    "median(Data['HBV_log_equivalence'])"
   ]
  },
  {
   "cell_type": "code",
   "execution_count": 17,
   "metadata": {},
   "outputs": [
    {
     "data": {
      "text/plain": [
       "4.6"
      ]
     },
     "execution_count": 17,
     "metadata": {},
     "output_type": "execute_result"
    }
   ],
   "source": [
    "median(Data['Stiffness'])"
   ]
  },
  {
   "cell_type": "code",
   "execution_count": 18,
   "metadata": {},
   "outputs": [
    {
     "data": {
      "text/plain": [
       "15.0"
      ]
     },
     "execution_count": 18,
     "metadata": {},
     "output_type": "execute_result"
    }
   ],
   "source": [
    "mode(Data['SGPT'])"
   ]
  },
  {
   "cell_type": "code",
   "execution_count": 19,
   "metadata": {},
   "outputs": [
    {
     "data": {
      "text/plain": [
       "2.2"
      ]
     },
     "execution_count": 19,
     "metadata": {},
     "output_type": "execute_result"
    }
   ],
   "source": [
    "mode(Data['AFP'])"
   ]
  },
  {
   "cell_type": "code",
   "execution_count": 20,
   "metadata": {},
   "outputs": [
    {
     "data": {
      "text/plain": [
       "0"
      ]
     },
     "execution_count": 20,
     "metadata": {},
     "output_type": "execute_result"
    }
   ],
   "source": [
    "mode(Data['HBV_Viral_Load'])"
   ]
  },
  {
   "cell_type": "code",
   "execution_count": 21,
   "metadata": {},
   "outputs": [
    {
     "data": {
      "text/plain": [
       "1.3"
      ]
     },
     "execution_count": 21,
     "metadata": {},
     "output_type": "execute_result"
    }
   ],
   "source": [
    "mode(Data['HBV_log_equivalence'])"
   ]
  },
  {
   "cell_type": "code",
   "execution_count": 22,
   "metadata": {},
   "outputs": [
    {
     "data": {
      "text/plain": [
       "3.5"
      ]
     },
     "execution_count": 22,
     "metadata": {},
     "output_type": "execute_result"
    }
   ],
   "source": [
    "mode(Data['Stiffness'])"
   ]
  },
  {
   "cell_type": "code",
   "execution_count": 23,
   "metadata": {},
   "outputs": [
    {
     "data": {
      "text/plain": [
       "349.97034200170395"
      ]
     },
     "execution_count": 23,
     "metadata": {},
     "output_type": "execute_result"
    }
   ],
   "source": [
    "pvariance(Data['SGPT'])"
   ]
  },
  {
   "cell_type": "code",
   "execution_count": 24,
   "metadata": {},
   "outputs": [
    {
     "data": {
      "text/plain": [
       "309.1394129741572"
      ]
     },
     "execution_count": 24,
     "metadata": {},
     "output_type": "execute_result"
    }
   ],
   "source": [
    "pvariance(Data['AFP'])"
   ]
  },
  {
   "cell_type": "code",
   "execution_count": 25,
   "metadata": {},
   "outputs": [
    {
     "data": {
      "text/plain": [
       "849553074124831.8"
      ]
     },
     "execution_count": 25,
     "metadata": {},
     "output_type": "execute_result"
    }
   ],
   "source": [
    "pvariance(Data['HBV_Viral_Load'])"
   ]
  },
  {
   "cell_type": "code",
   "execution_count": 26,
   "metadata": {},
   "outputs": [
    {
     "data": {
      "text/plain": [
       "2.4760438531380586"
      ]
     },
     "execution_count": 26,
     "metadata": {},
     "output_type": "execute_result"
    }
   ],
   "source": [
    "pvariance(Data['HBV_log_equivalence'])"
   ]
  },
  {
   "cell_type": "code",
   "execution_count": 27,
   "metadata": {},
   "outputs": [
    {
     "data": {
      "text/plain": [
       "2.5491870664124305"
      ]
     },
     "execution_count": 27,
     "metadata": {},
     "output_type": "execute_result"
    }
   ],
   "source": [
    "pvariance(Data['Stiffness'])"
   ]
  },
  {
   "cell_type": "code",
   "execution_count": 28,
   "metadata": {},
   "outputs": [
    {
     "data": {
      "text/html": [
       "<div>\n",
       "<style scoped>\n",
       "    .dataframe tbody tr th:only-of-type {\n",
       "        vertical-align: middle;\n",
       "    }\n",
       "\n",
       "    .dataframe tbody tr th {\n",
       "        vertical-align: top;\n",
       "    }\n",
       "\n",
       "    .dataframe thead th {\n",
       "        text-align: right;\n",
       "    }\n",
       "</style>\n",
       "<table border=\"1\" class=\"dataframe\">\n",
       "  <thead>\n",
       "    <tr style=\"text-align: right;\">\n",
       "      <th>col_0</th>\n",
       "      <th>HBeAg_count</th>\n",
       "    </tr>\n",
       "    <tr>\n",
       "      <th>HBeAg</th>\n",
       "      <th></th>\n",
       "    </tr>\n",
       "  </thead>\n",
       "  <tbody>\n",
       "    <tr>\n",
       "      <td>Negative</td>\n",
       "      <td>747</td>\n",
       "    </tr>\n",
       "    <tr>\n",
       "      <td>Positive</td>\n",
       "      <td>38</td>\n",
       "    </tr>\n",
       "  </tbody>\n",
       "</table>\n",
       "</div>"
      ],
      "text/plain": [
       "col_0     HBeAg_count\n",
       "HBeAg                \n",
       "Negative          747\n",
       "Positive           38"
      ]
     },
     "execution_count": 28,
     "metadata": {},
     "output_type": "execute_result"
    }
   ],
   "source": [
    "pd.crosstab(Data['HBeAg'], columns='HBeAg_count')"
   ]
  },
  {
   "cell_type": "code",
   "execution_count": 29,
   "metadata": {},
   "outputs": [
    {
     "data": {
      "text/html": [
       "<div>\n",
       "<style scoped>\n",
       "    .dataframe tbody tr th:only-of-type {\n",
       "        vertical-align: middle;\n",
       "    }\n",
       "\n",
       "    .dataframe tbody tr th {\n",
       "        vertical-align: top;\n",
       "    }\n",
       "\n",
       "    .dataframe thead th {\n",
       "        text-align: right;\n",
       "    }\n",
       "</style>\n",
       "<table border=\"1\" class=\"dataframe\">\n",
       "  <thead>\n",
       "    <tr style=\"text-align: right;\">\n",
       "      <th>col_0</th>\n",
       "      <th>HBeAg_proportion</th>\n",
       "    </tr>\n",
       "    <tr>\n",
       "      <th>HBeAg</th>\n",
       "      <th></th>\n",
       "    </tr>\n",
       "  </thead>\n",
       "  <tbody>\n",
       "    <tr>\n",
       "      <td>Negative</td>\n",
       "      <td>0.951592</td>\n",
       "    </tr>\n",
       "    <tr>\n",
       "      <td>Positive</td>\n",
       "      <td>0.048408</td>\n",
       "    </tr>\n",
       "  </tbody>\n",
       "</table>\n",
       "</div>"
      ],
      "text/plain": [
       "col_0     HBeAg_proportion\n",
       "HBeAg                     \n",
       "Negative          0.951592\n",
       "Positive          0.048408"
      ]
     },
     "execution_count": 29,
     "metadata": {},
     "output_type": "execute_result"
    }
   ],
   "source": [
    "pd.crosstab(Data['HBeAg'], columns='HBeAg_proportion', normalize=True)"
   ]
  },
  {
   "cell_type": "code",
   "execution_count": null,
   "metadata": {},
   "outputs": [],
   "source": []
  }
 ],
 "metadata": {
  "kernelspec": {
   "display_name": "Python 3",
   "language": "python",
   "name": "python3"
  },
  "language_info": {
   "codemirror_mode": {
    "name": "ipython",
    "version": 3
   },
   "file_extension": ".py",
   "mimetype": "text/x-python",
   "name": "python",
   "nbconvert_exporter": "python",
   "pygments_lexer": "ipython3",
   "version": "3.7.4"
  }
 },
 "nbformat": 4,
 "nbformat_minor": 2
}
